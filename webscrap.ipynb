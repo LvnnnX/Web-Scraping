{
 "cells": [
  {
   "cell_type": "code",
   "execution_count": 1,
   "metadata": {},
   "outputs": [],
   "source": [
    "from bs4 import BeautifulSoup\n",
    "import requests\n",
    "import re"
   ]
  },
  {
   "cell_type": "code",
   "execution_count": 41,
   "metadata": {},
   "outputs": [],
   "source": [
    "url1 = f'https://www.enkosa.com/2022/07/kalender-bali-november-2023-lengkap.html'\n",
    "get_url = requests.get(url1)"
   ]
  },
  {
   "cell_type": "code",
   "execution_count": 42,
   "metadata": {},
   "outputs": [
    {
     "name": "stdout",
     "output_type": "stream",
     "text": [
      "Judul : \n",
      "Public Holiday Bali November 2023\n",
      "\n",
      "Isi : \n",
      "Nihil\n",
      "=================\n",
      "Judul : \n",
      "Hari Fakultatif\n",
      "\n",
      "Isi : \n",
      "Nihil\n",
      "=================\n",
      "Judul : \n",
      "Daftar Rerainan\n",
      "\n",
      "Isi : \n",
      "Tanggal 10 November. Kajeng Keliwon Uwudan\n",
      "Tanggal 12 November. Tilem\n",
      "Tanggal 15 November. Buda Keliwon Ugu\n",
      "Tanggal 25 November. Kajeng Keliwon Enyitan\n",
      "Tanggal 25 November. Tumpek Wayang\n",
      "Tanggal 27 November. Purnama\n",
      "Tanggal 29 November. Buda Wage Kulawu\n",
      "=================\n",
      "Judul : \n",
      "Daftar Upacara Bulan November 2023\n",
      "\n",
      "Isi : \n",
      "– Upacara-Yadnya\n",
      "– Pertanian-Perkebunan\n",
      "– Peternakan-Perikanan\n",
      "– Peralatan-Senjata\n",
      "– Pembangunan\n",
      "– Aneka Kegiatan\n",
      "– Ala-ayuning Dewasa\n",
      "=================\n"
     ]
    }
   ],
   "source": [
    "#f'https://www.enkosa.com/2022/07/kalender-bali-september-2023-lengkap.html'\n",
    "soup = BeautifulSoup(get_url.text,'html.parser')\n",
    "judul = soup.find('div',class_='entry-content')\n",
    "judul_fix = judul.find_all('h3')\n",
    "hari_raya = judul.find_all('ul')\n",
    "\n",
    "judul_clean = []\n",
    "hari_raya_clean = []\n",
    "\n",
    "TAG_RE = re.compile(r'<[^>]+>')\n",
    "for a,b in zip(hari_raya[:-1], judul_fix[:-1]):\n",
    "    clean_a = TAG_RE.sub('\\n',str(a))\n",
    "    clean_b = TAG_RE.sub('\\n',str(b))\n",
    "    clean_a = clean_a.replace('\\n\\n','\\n')\n",
    "    clean_b = clean_b.replace('\\n\\n','\\n')\n",
    "    judul_clean.append(clean_b)\n",
    "    hari_raya_clean.append(clean_a)\n",
    "\n",
    "# print(len(hari_raya_clean))\n",
    "for a in range(len(judul_clean)):\n",
    "    print('Judul :',judul_clean[a])\n",
    "    print('Isi :',hari_raya_clean[a],end='=================\\n')"
   ]
  }
 ],
 "metadata": {
  "kernelspec": {
   "display_name": "Python 3",
   "language": "python",
   "name": "python3"
  },
  "language_info": {
   "codemirror_mode": {
    "name": "ipython",
    "version": 3
   },
   "file_extension": ".py",
   "mimetype": "text/x-python",
   "name": "python",
   "nbconvert_exporter": "python",
   "pygments_lexer": "ipython3",
   "version": "3.10.7"
  },
  "orig_nbformat": 4,
  "vscode": {
   "interpreter": {
    "hash": "4c6dbd72bd2896309ac539ff8045753c51fa51468eeed1bd4d8ec1025a758964"
   }
  }
 },
 "nbformat": 4,
 "nbformat_minor": 2
}
